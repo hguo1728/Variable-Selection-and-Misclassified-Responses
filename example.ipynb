{
 "cells": [
  {
   "cell_type": "code",
   "execution_count": 1,
   "metadata": {},
   "outputs": [],
   "source": [
    "import numpy as np\n",
    "from scipy.stats import norm\n",
    "\n",
    "from run import run\n"
   ]
  },
  {
   "cell_type": "code",
   "execution_count": 2,
   "metadata": {},
   "outputs": [],
   "source": [
    "'''generate data without error'''\n",
    "\n",
    "def get_data(n, seed_0, k1, k2, intercept, slope):\n",
    "    # define mean and covariance matrix for mutiariate normal vector\n",
    "    # n: sample size\n",
    "    # k1: dim of continuous covariate vector\n",
    "    # k2: dim of discrete covariate vector\n",
    "    # intercept: scalar\n",
    "    # slope: (p,)\n",
    "\n",
    "    mean = np.zeros(k1)\n",
    "    cov = np.ones((k1, k1))\n",
    "    \n",
    "    for i in range(k1):\n",
    "        for j in range(k1):\n",
    "            cov[i, j] = 0.5 ** (abs(i - j))\n",
    "    \n",
    "    np.random.seed(seed_0)\n",
    "    Z1 = np.random.multivariate_normal(mean, cov, n)\n",
    "\n",
    "    np.random.seed(seed_0 * 2)\n",
    "    Z2 = np.random.binomial(1, 0.5, (n, k2))\n",
    "\n",
    "\n",
    "    Z = np.concatenate((Z1, Z2), axis=1)\n",
    "    \n",
    "    logi = (intercept + np.matmul(Z, slope)).reshape(-1) # (n, p) * (p, 1) -> (n, 1) -> (n,)\n",
    "    p = np.exp(logi) / (1 + np.exp(logi))\n",
    "    Y = np.zeros(n)\n",
    "    for i in range(n):\n",
    "        np.random.seed(i + 10)\n",
    "        if np.random.rand() < p[i]:\n",
    "            Y[i] = 1\n",
    "    \n",
    "    return Z, Y\n",
    "\n",
    "'''generate noisy label'''\n",
    "\n",
    "def noisy_label(Z, Y, r, b0, b, loc0):\n",
    "    '''\n",
    "        input:\n",
    "            Z -- covariates\n",
    "            Y -- true label vector\n",
    "            r -- model misspecification parameter\n",
    "        output:\n",
    "            Y_star -- noisy label\n",
    "    '''\n",
    "    \n",
    "    n = Y.shape[0]\n",
    "    Y_star = np.copy(Y)\n",
    "\n",
    "    for i in range(n):\n",
    "        p1 = norm.cdf(Z[i, 1] ** 2, loc=loc0)\n",
    "        p2 = np.exp(b0 + np.dot(Z[i, :], b)) / (1 + np.exp(b0 + np.dot(Z[i, :], b)))\n",
    "        p = r * p1 + (1 - r) * p2\n",
    "        \n",
    "        np.random.seed(n + i + 100)\n",
    "        if np.random.rand() < p:\n",
    "            Y_star[i] = 1 - Y[i]\n",
    "                \n",
    "    return Y_star"
   ]
  },
  {
   "cell_type": "code",
   "execution_count": 3,
   "metadata": {},
   "outputs": [],
   "source": [
    "n = 1000  # sample size\n",
    "p = 20 # number of covariates\n",
    "delta = 0.3 # validation ratio\n",
    "\n",
    "\n",
    "# true parameter: beta_0\n",
    "intercept = 1\n",
    "slope = np.zeros((p,))\n",
    "slope[0], slope[1], slope[4], slope[5], slope[9] = 2, 1.3, 2, -1.5, 1 \n",
    "\n",
    "# noisy response generation parameter\n",
    "b =np.zeros((p,))\n",
    "b[0], b[1], b[2], b[3], b[4] = 1, 1, -1.5, 1.1, -1.3\n",
    "\n",
    "# generate data\n",
    "seed = 1\n",
    "Z_, Y_ = get_data(n, seed_0 = seed, k1=18, k2=2, intercept=intercept, slope=slope) \n",
    "Y_star_ = noisy_label(Z_, Y_, r=0, b0=-2.15, b=b, loc0=1.98) \n",
    "\n",
    "\n",
    "n_v = int(np.floor(n * delta))\n",
    "\n",
    "Z_val = Z_[:n_v, :]\n",
    "Y_star_val = Y_star_[:n_v]\n",
    "Y_val = Y_[:n_v]\n",
    "\n",
    "Z = Z_[n_v:, :]\n",
    "Y_star = Y_star_[n_v:]\n"
   ]
  },
  {
   "cell_type": "code",
   "execution_count": 4,
   "metadata": {},
   "outputs": [
    {
     "name": "stdout",
     "output_type": "stream",
     "text": [
      "Training is over.\n",
      "[ 2.03376014  1.33391169  0.          0.          1.82238371 -1.54198724\n",
      "  0.          0.          0.          0.97377539  0.          0.\n",
      "  0.          0.          0.          0.          0.          0.\n",
      "  0.          0.        ]\n"
     ]
    }
   ],
   "source": [
    "result = run(Z, Y_star, Z_val, Y_val, Y_star_val, discrete_idx=[18, 19], Z_test=None, Y_test=None, test=False,\n",
    "        link_func='logit', penalty='scad', use_intercept=True, criterion='gcv',\n",
    "        model_running='semi', densityType='Kernel', \n",
    "        eta=0.91, R=None, L=0.05, N_iter=3, max_loop=10\n",
    "        )\n",
    "print(result[\"beta\"])"
   ]
  },
  {
   "cell_type": "code",
   "execution_count": 5,
   "metadata": {},
   "outputs": [
    {
     "name": "stdout",
     "output_type": "stream",
     "text": [
      "Training is over.\n",
      "[ 1.86259401  1.18149667  0.16818622  0.          1.67187782 -1.46712904\n",
      "  0.          0.          0.          0.76958554  0.25393421  0.\n",
      "  0.          0.          0.          0.          0.         -0.24809958\n",
      "  0.          0.        ]\n"
     ]
    }
   ],
   "source": [
    "result = run(Z, Y_star, Z_val, Y_val, Y_star_val, discrete_idx=[18, 19], Z_test=None, Y_test=None, test=False,\n",
    "        link_func='logit', penalty='scad', use_intercept=True, criterion='gcv',\n",
    "        model_running='semi', densityType='pcaKernel', \n",
    "        eta=0.91, R=5, L=0.05, N_iter=3, max_loop=10\n",
    "        )\n",
    "print(result[\"beta\"])"
   ]
  },
  {
   "cell_type": "code",
   "execution_count": 6,
   "metadata": {},
   "outputs": [
    {
     "name": "stdout",
     "output_type": "stream",
     "text": [
      "Training is over.\n",
      "[ 2.08156906  1.29061348  0.          0.          1.88338983 -1.4290544\n",
      "  0.          0.          0.          0.9308662   0.38492446  0.\n",
      "  0.          0.          0.          0.          0.          0.\n",
      "  0.          0.        ]\n"
     ]
    }
   ],
   "source": [
    "result = run(Z, Y_star, Z_val, Y_val, Y_star_val, discrete_idx=[18, 19], Z_test=None, Y_test=None, test=False,\n",
    "        link_func='logit', penalty='scad', use_intercept=True, criterion='gcv',\n",
    "        model_running='param', densityType='Kernel', \n",
    "        eta=0.91, R=None, L=0.05, N_iter=3, max_loop=10\n",
    "        )\n",
    "print(result[\"beta\"])"
   ]
  }
 ],
 "metadata": {
  "kernelspec": {
   "display_name": "base",
   "language": "python",
   "name": "python3"
  },
  "language_info": {
   "codemirror_mode": {
    "name": "ipython",
    "version": 3
   },
   "file_extension": ".py",
   "mimetype": "text/x-python",
   "name": "python",
   "nbconvert_exporter": "python",
   "pygments_lexer": "ipython3",
   "version": "3.9.7"
  }
 },
 "nbformat": 4,
 "nbformat_minor": 2
}
